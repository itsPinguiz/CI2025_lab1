{
 "cells": [
  {
   "cell_type": "markdown",
   "id": "11fa4375",
   "metadata": {},
   "source": [
    "Copyright **`(c)`** 2025 Giovanni Squillero `<giovanni.squillero@polito.it>`  \n",
    "[`https://github.com/squillero/computational-intelligence`](https://github.com/squillero/computational-intelligence)  \n",
    "Free under certain conditions — see the [`license`](https://github.com/squillero/computational-intelligence/blob/master/LICENSE.md) for details.  "
   ]
  },
  {
   "cell_type": "markdown",
   "id": "a985f686",
   "metadata": {},
   "source": [
    "# Lab 1 - Simulated Annealing for the Multi-dimensional Knapsack Problem\n",
    "\n",
    "This implementation addresses the multi-dimensional, multi-knapsack optimization problem, an extension of the classic 0-1 Knapsack Problem in which multiple knapsacks must be filled with items characterized by both a value and a multi-dimensional weight vector.\n",
    "Each knapsack has capacity constraints across several dimensions (e.g., weight, volume, or cost), and the objective is to maximize the total value of all items placed without exceeding any constraint in any knapsack.\n",
    "\n",
    "Given the combinatorial nature and computational complexity of this problem (NP-hard), the algorithm employs a Simulated Annealing (SA) metaheuristic to search for near-optimal solutions within a reasonable time.\n",
    "\n",
    "### Overview of the Simulated Annealing Method\n",
    "\n",
    "Simulated Annealing is a probabilistic optimization algorithm inspired by the physical process of annealing in metallurgy, where a material is heated and gradually cooled to reach a state of minimal energy.\n",
    "\n",
    "In the context of optimization, the algorithm explores the search space by iteratively modifying a candidate solution.\n",
    "It accepts not only improving moves but occasionally also worse moves, with a probability that decreases as the system \"cools\".\n",
    "This allows it to escape local optima and converge toward a global or near-global optimum.\n",
    "At each iteration, the algorithm:\n",
    "1. Generates a neighboring solution ( tweak() function);\n",
    "2. Evaluates its quality (total value);\n",
    "3. Decides whether to accept it based on the Metropolis acceptance criterion:\n",
    "\n",
    "\\begin{equation*}\n",
    "P(\\text { accept })= \\begin{cases}1, & \\text { if } \\Delta>0 \\\\ e^{\\Delta / T}, & \\text { if } \\Delta \\leq 0\\end{cases}\n",
    "\\end{equation*}\n",
    "\n",
    "where $\\Delta$ is the change in objective value and $T$ is the current temperature.\n",
    "The temperature decreases according to an exponential cooling schedule:\n",
    "\n",
    "\\begin{equation*}\n",
    "T_i=T_0\\left(\\frac{T_f}{T_0}\\right)^{i / N}\n",
    "\\end{equation*}\n",
    "\n",
    "where $T_0$ and $T_f$ are the initial and final temperatures, respectively, and $N$ is the total number of iterations.\n",
    "\n",
    "### Neighborhood Generation: The `tweak()` Function\n",
    "\n",
    "The `tweak()` function determines how new candidate solutions are generated based on the current temperature:\n",
    "- High Temperature (Exploration Phase):\n",
    "  - The algorithm performs random modifications using the `random_edit` function.\n",
    "  - Random edits include adding, removing, or transferring items between knapsacks.\n",
    "- Low Temperature (Exploitation Phase):\n",
    "  - The algorithm applies value-based improvements using the `value_based_edit` function.\n",
    "  - This function attempts to insert high-value, space-efficient items (based on value-to-weight ratio) into available knapsacks.\n",
    "  - If all items are already assigned, it calls `optimize_transfers()` to locally refine the current configuration.\n",
    "\n",
    "If a valid solution (i.e., one that respects all capacity constraints) is found, it is returned immediately. Otherwise, the process repeats for a limited number of attempts before reverting to the previous state.\n",
    "\n",
    "### Local Editing Operators\n",
    "1. `random_edit()`\n",
    "  Performs a single stochastic operation:\n",
    "  - Add: Randomly adds an unassigned item to a feasible knapsack.\n",
    "  - Remove: Randomly removes an item from a knapsack.\n",
    "  - Transfer: Moves an item from one knapsack to another if it fits.\n",
    "\n",
    "This operator introduces controlled randomness, allowing the algorithm to explore different configurations without deterministic bias.\n",
    "\n",
    "2. `value_based_edit()`\n",
    "\n",
    "  Attempts to greedily improve the current solution:\n",
    "  - Computes the value density of unassigned items as:\n",
    "\n",
    "  \\begin{equation*}\n",
    "  \\operatorname{density}(i)=\\frac{\\operatorname{value}(i)}{\\|\\operatorname{weight}(i)\\|_2+\\epsilon}\n",
    "  \\end{equation*}\n",
    "\n",
    "  - Sorts items by decreasing density and assigns them to the knapsack that provides the best utilization of remaining space.\n",
    "  - If all items are already assigned, it calls `optimize_transfers()`.\n",
    "3. `optimize_transfers()`\n",
    "\n",
    "  Performs local optimization by considering item transfers between knapsacks.\n",
    "  It moves an item only if doing so enables the inclusion of a more valuable unassigned item elsewhere, thereby increasing the total system value.\n",
    "\n",
    "  This process iterates until no further improvements can be made or a maximum number of passes is reached.\n",
    "\n",
    "### Acceptance and Cooling Schedule\n",
    "\n",
    "At each iteration:\n",
    "1. The new solution is compared with the current one.\n",
    "2. If it improves the objective value, it is always accepted.\n",
    "3. Otherwise, it is accepted with a temperature-dependent probability.\n",
    "\n",
    "As the temperature decreases, the algorithm transitions from a global exploratory search to a local finetuning phase.\n",
    "This gradual cooling allows convergence to a stable, high-quality solution.\n",
    "\n",
    "If the algorithm fails to improve for a specified number of iterations ( `early_stop` ), it terminates early to reduce computation time.\n",
    "Additionally, if stagnation is detected before reaching the early stop threshold, the algorithm restarts from the best-known solution to resume progress."
   ]
  },
  {
   "cell_type": "code",
   "execution_count": 2,
   "id": "c0882a9f",
   "metadata": {},
   "outputs": [],
   "source": [
    "import numpy as np\n",
    "from copy import deepcopy\n",
    "from tqdm import tqdm\n",
    "import math"
   ]
  },
  {
   "cell_type": "code",
   "execution_count": null,
   "id": "f21d5749",
   "metadata": {},
   "outputs": [
    {
     "ename": "",
     "evalue": "",
     "output_type": "error",
     "traceback": [
      "\u001b[1;31mnotebook controller is DISPOSED. \n",
      "\u001b[1;31mView Jupyter <a href='command:jupyter.viewOutput'>log</a> for further details."
     ]
    },
    {
     "ename": "",
     "evalue": "",
     "output_type": "error",
     "traceback": [
      "\u001b[1;31mnotebook controller is DISPOSED. \n",
      "\u001b[1;31mView Jupyter <a href='command:jupyter.viewOutput'>log</a> for further details."
     ]
    }
   ],
   "source": [
    "class KnapsackOptimizer:\n",
    "    def __init__(self, params):\n",
    "        \"\"\"Initialize with parameters from dictionary.\"\"\"\n",
    "        self.constraints = params['constraints']\n",
    "        self.weights = params['weights']\n",
    "        self.values = params['values']\n",
    "        self.num_knapsacks = params['num_knapsacks']\n",
    "        self.num_items = params['num_items']\n",
    "\n",
    "        self.iterations = params.get('iterations', 10000)\n",
    "        self.initial_temp = params.get('initial_temperature', 10 * math.log10(self.num_items * self.weights.shape[1]))\n",
    "        self.final_temp = params.get('final_temperature', self.initial_temp * 0.01)\n",
    "        self.early_stop = params.get('early_stop', self.iterations // 20)\n",
    "\n",
    "    \"\"\" HELPER METHODS \"\"\"\n",
    "    def space_left(self, knapsack):\n",
    "        \"\"\"Calculate remaining space in a knapsack.\"\"\"\n",
    "        if not knapsack.any():\n",
    "            return self.constraints.copy()\n",
    "        return self.constraints - self.weights[knapsack].sum(axis=0)\n",
    "\n",
    "    def is_valid(self, knapsacks):\n",
    "        \"\"\"Check if all knapsacks are within constraints.\"\"\"\n",
    "        for k in range(self.num_knapsacks):\n",
    "            selected_items = np.where(knapsacks[k])[0]\n",
    "            if len(selected_items) > 0:\n",
    "                knapsack_weights = self.weights[selected_items].sum(axis=0)\n",
    "                if np.any(knapsack_weights > self.constraints):\n",
    "                    return False\n",
    "        return True\n",
    "\n",
    "    def value(self, knapsacks):\n",
    "        \"\"\"Calculate total value of items in all knapsacks.\"\"\"\n",
    "        total_value = 0\n",
    "        for k in range(self.num_knapsacks):\n",
    "            selected_items = np.where(knapsacks[k])[0]\n",
    "            total_value += self.values[selected_items].sum()\n",
    "        return total_value\n",
    "\n",
    "    def random_valid_solution(self):\n",
    "        \"\"\"Generate a random valid solution.\"\"\"\n",
    "        knapsacks = np.zeros((self.num_knapsacks, self.num_items), dtype=bool)\n",
    "\n",
    "        while True:\n",
    "            for item in range(self.num_items):\n",
    "                k = np.random.randint(self.num_knapsacks)\n",
    "                if np.all(self.space_left(knapsacks[k]) >= self.weights[item]):\n",
    "                    knapsacks[k][item] = True\n",
    "            if self.is_valid(knapsacks):\n",
    "                break\n",
    "        return knapsacks\n",
    "\n",
    "    \"\"\" OPTIMIZATION METHODS \"\"\"\n",
    "    def random_edit(self, knapsacks):\n",
    "        \"\"\"Randomly add, remove, or transfer an item.\"\"\"\n",
    "        knapsacks = knapsacks.copy()\n",
    "        operation = np.random.choice(['add', 'remove', 'transfer'])\n",
    "        \n",
    "        if operation == 'add':\n",
    "            all_items = np.any(knapsacks, axis=0)\n",
    "            available_items = np.where(~all_items)[0]\n",
    "            if len(available_items) > 0:\n",
    "                item = np.random.choice(available_items)\n",
    "                k = np.random.randint(self.num_knapsacks)\n",
    "                if np.all(self.space_left(knapsacks[k]) >= self.weights[item]):\n",
    "                    knapsacks[k][item] = True\n",
    "        elif operation == 'remove':\n",
    "            for k in range(self.num_knapsacks):\n",
    "                items_in_k = np.where(knapsacks[k])[0]\n",
    "                if len(items_in_k) > 0:\n",
    "                    item = np.random.choice(items_in_k)\n",
    "                    knapsacks[k][item] = False\n",
    "                    break\n",
    "        else:\n",
    "            k1, k2 = np.random.choice(self.num_knapsacks, size=2, replace=False)\n",
    "            items_in_k1 = np.where(knapsacks[k1])[0]\n",
    "            if len(items_in_k1) > 0:\n",
    "                item = np.random.choice(items_in_k1)\n",
    "                if np.all(self.space_left(knapsacks[k2]) >= self.weights[item]):\n",
    "                    knapsacks[k1][item] = False\n",
    "                    knapsacks[k2][item] = True\n",
    "        return knapsacks\n",
    "\n",
    "    def value_based_edit(self, knapsacks):\n",
    "        \"\"\"Simple value-based editing using current knapsack state.\"\"\"\n",
    "        knapsacks = knapsacks.copy()\n",
    "        \n",
    "        # Get items not currently in any knapsack\n",
    "        unassigned_items = [item for item in range(self.num_items) if not np.any(knapsacks[:, item])]\n",
    "        \n",
    "        if not unassigned_items:\n",
    "            # If all items are assigned, try to optimize transfers\n",
    "            return self.optimize_transfers(knapsacks)\n",
    "        \n",
    "        # Sort unassigned items by value density\n",
    "        items_with_density = []\n",
    "        for item in unassigned_items:\n",
    "            # Use Euclidean norm for multi-dimensional weight\n",
    "            weight_norm = np.linalg.norm(self.weights[item])\n",
    "            value_density = self.values[item] / (weight_norm + 1e-9)\n",
    "            items_with_density.append((item, value_density))\n",
    "        \n",
    "        items_with_density.sort(key=lambda x: x[1], reverse=True)\n",
    "        \n",
    "        # Try to add high-value items to knapsacks where they fit best\n",
    "        for item, _ in items_with_density:\n",
    "            best_k = -1\n",
    "            best_fit = -1\n",
    "            \n",
    "            for k in range(self.num_knapsacks):\n",
    "                space_left = self.space_left(knapsacks[k])\n",
    "                \n",
    "                if np.all(space_left >= self.weights[item]):\n",
    "                    # Calculate how well this item fits\n",
    "                    fit_score = 0\n",
    "                    for d in range(len(self.constraints)):\n",
    "                        if space_left[d] > 0:\n",
    "                            utilization = self.weights[item][d] / space_left[d]\n",
    "                            fit_score += utilization\n",
    "                    \n",
    "                    if fit_score > best_fit:\n",
    "                        best_k = k\n",
    "                        best_fit = fit_score\n",
    "            \n",
    "            if best_k != -1:\n",
    "                knapsacks[best_k][item] = True\n",
    "        \n",
    "        return knapsacks\n",
    "\n",
    "    def optimize_transfers(self, knapsacks):\n",
    "        \"\"\"Optimize by transferring items between knapsacks.\"\"\"\n",
    "        knapsacks = knapsacks.copy()\n",
    "        \n",
    "        # Try to improve by transferring items\n",
    "        improved = True\n",
    "        max_passes = 10\n",
    "        passes = 0\n",
    "        \n",
    "        while improved and passes < max_passes:\n",
    "            improved = False\n",
    "            passes += 1\n",
    "            \n",
    "            for item in range(self.num_items):\n",
    "                current_k = np.where(knapsacks[:, item])[0][0]\n",
    "                \n",
    "                # Check if moving to another knapsack would be better\n",
    "                for k in range(self.num_knapsacks):\n",
    "                    if k == current_k:\n",
    "                        continue\n",
    "                    \n",
    "                    # Check if item fits in target knapsack\n",
    "                    if np.all(self.space_left(knapsacks[k]) >= self.weights[item]):\n",
    "                        # Check if this move would allow adding more valuable items\n",
    "                        current_space_after_remove = self.space_left(knapsacks[current_k]) + self.weights[item]\n",
    "                        target_space_after_add = self.space_left(knapsacks[k]) - self.weights[item]\n",
    "                        \n",
    "                        # Find best item that could be added to current knapsack after removal\n",
    "                        best_additional_value = 0\n",
    "                        for other_item in range(self.num_items):\n",
    "                            if not np.any(knapsacks[:, other_item]) and np.all(current_space_after_remove >= self.weights[other_item]):\n",
    "                                if self.values[other_item] > best_additional_value:\n",
    "                                    best_additional_value = self.values[other_item]\n",
    "                        \n",
    "                        # If we can get more value by moving, do it\n",
    "                        if best_additional_value > self.values[item]:\n",
    "                            knapsacks[current_k][item] = False\n",
    "                            knapsacks[k][item] = True\n",
    "                            improved = True\n",
    "                            break\n",
    "        \n",
    "        return knapsacks\n",
    "\n",
    "    def tweak(self, knapsacks, temperature):\n",
    "        \"\"\"Tweak solution based on temperature.\"\"\"\n",
    "        knapsacks = knapsacks.copy()\n",
    "        max_attempts = 20\n",
    "        attempt = 0\n",
    "        \n",
    "        while attempt < max_attempts:\n",
    "            # More exploration at high temperatures, more exploitation at low temperatures\n",
    "            if np.random.rand() < temperature:\n",
    "                # At high temperatures, make more random changes\n",
    "                num_edits = max(1, int(3 * temperature))\n",
    "                temp_solution = knapsacks.copy()\n",
    "                for _ in range(num_edits):\n",
    "                    temp_solution = self.random_edit(temp_solution)\n",
    "                knapsacks = temp_solution\n",
    "            else:\n",
    "                # At low temperatures, focus on value-based improvements\n",
    "                knapsacks = self.value_based_edit(knapsacks)\n",
    "                \n",
    "            if self.is_valid(knapsacks):\n",
    "                return knapsacks\n",
    "            \n",
    "            attempt += 1\n",
    "        \n",
    "        # If we can't find a valid solution after max attempts, return original\n",
    "        return knapsacks.copy()\n",
    "\n",
    "    def optimize(self):\n",
    "        \"\"\"Perform simulated annealing to optimize knapsack solution.\"\"\"\n",
    "        solution = self.random_valid_solution()\n",
    "        actual_value = self.value(solution)\n",
    "        best_solution = deepcopy(solution)\n",
    "        best_value = actual_value\n",
    "\n",
    "        best_values = []\n",
    "        no_improvement_count = 0\n",
    "        \n",
    "        pbar = tqdm(range(self.iterations), desc=\"Optimizing\")\n",
    "        for i in pbar:\n",
    "            temperature = self.initial_temp * math.pow(self.final_temp / self.initial_temp, i / self.iterations)\n",
    "            new_solution = self.tweak(solution, temperature=temperature)\n",
    "            new_value = self.value(new_solution)\n",
    "\n",
    "            # Calculate acceptance probability\n",
    "            delta = new_value - actual_value\n",
    "            acceptance_probability = 1.0 if delta > 0 else math.exp(delta / temperature)\n",
    "            \n",
    "            if np.random.random() < acceptance_probability:\n",
    "                solution = new_solution\n",
    "                actual_value = new_value\n",
    "                if actual_value > best_value:\n",
    "                    best_solution = deepcopy(solution)\n",
    "                    best_value = actual_value\n",
    "                    no_improvement_count = 0\n",
    "                else:\n",
    "                    no_improvement_count += 1\n",
    "            else:\n",
    "                no_improvement_count += 1\n",
    "\n",
    "            # Early stopping check\n",
    "            if no_improvement_count >= self.early_stop:\n",
    "                pbar.set_postfix({'value': best_value, 'temp': temperature, 'status': 'early stopped'}, refresh=True)\n",
    "                tqdm.write(\"Early stopping.\")\n",
    "                pbar.close()\n",
    "                break\n",
    "                \n",
    "            # Restart from best solution if stuck for a while but not enough to stop\n",
    "            if no_improvement_count > 1000 and no_improvement_count < self.early_stop:\n",
    "                solution = deepcopy(best_solution)\n",
    "                actual_value = best_value\n",
    "                no_improvement_count = 0\n",
    "\n",
    "            best_values.append(best_value)\n",
    "            pbar.set_postfix({'value': best_value, 'temp': temperature}, refresh=True)\n",
    "        \n",
    "        return best_solution, best_value, best_values"
   ]
  },
  {
   "cell_type": "code",
   "execution_count": null,
   "id": "e37c3445",
   "metadata": {},
   "outputs": [
    {
     "ename": "",
     "evalue": "",
     "output_type": "error",
     "traceback": [
      "\u001b[1;31mnotebook controller is DISPOSED. \n",
      "\u001b[1;31mView Jupyter <a href='command:jupyter.viewOutput'>log</a> for further details."
     ]
    },
    {
     "ename": "",
     "evalue": "",
     "output_type": "error",
     "traceback": [
      "\u001b[1;31mnotebook controller is DISPOSED. \n",
      "\u001b[1;31mView Jupyter <a href='command:jupyter.viewOutput'>log</a> for further details."
     ]
    }
   ],
   "source": [
    "params = {\n",
    "    'num_items': 10,\n",
    "    'num_dimensions': 2,\n",
    "    'num_knapsacks': 3,\n",
    "    'values': np.random.randint(0, 100, size=10),\n",
    "    'weights': np.random.randint(0, 100, size=(10, 2)),\n",
    "    'constraints': np.random.randint(0, 100 * 10 // 3, size=2),\n",
    "    'iterations': 4000\n",
    "}"
   ]
  },
  {
   "cell_type": "code",
   "execution_count": 30,
   "id": "cdcddd4d",
   "metadata": {},
   "outputs": [
    {
     "ename": "AttributeError",
     "evalue": "'KnapsackOptimizer' object has no attribute 'num_dimensions'",
     "output_type": "error",
     "traceback": [
      "\u001b[31m---------------------------------------------------------------------------\u001b[39m",
      "\u001b[31mAttributeError\u001b[39m                            Traceback (most recent call last)",
      "\u001b[36mCell\u001b[39m\u001b[36m \u001b[39m\u001b[32mIn[30]\u001b[39m\u001b[32m, line 1\u001b[39m\n\u001b[32m----> \u001b[39m\u001b[32m1\u001b[39m ko = \u001b[43mKnapsackOptimizer\u001b[49m\u001b[43m(\u001b[49m\u001b[43mparams\u001b[49m\u001b[43m)\u001b[49m\n\u001b[32m      2\u001b[39m best_solution, best_value, best_values = ko.optimize()\n",
      "\u001b[36mCell\u001b[39m\u001b[36m \u001b[39m\u001b[32mIn[28]\u001b[39m\u001b[32m, line 11\u001b[39m, in \u001b[36mKnapsackOptimizer.__init__\u001b[39m\u001b[34m(self, params)\u001b[39m\n\u001b[32m      8\u001b[39m \u001b[38;5;28mself\u001b[39m.num_items = params[\u001b[33m'\u001b[39m\u001b[33mnum_items\u001b[39m\u001b[33m'\u001b[39m]\n\u001b[32m     10\u001b[39m \u001b[38;5;28mself\u001b[39m.iterations = params.get(\u001b[33m'\u001b[39m\u001b[33miterations\u001b[39m\u001b[33m'\u001b[39m, \u001b[32m10000\u001b[39m)\n\u001b[32m---> \u001b[39m\u001b[32m11\u001b[39m \u001b[38;5;28mself\u001b[39m.initial_temp = params.get(\u001b[33m'\u001b[39m\u001b[33minitial_temperature\u001b[39m\u001b[33m'\u001b[39m, \u001b[32m10\u001b[39m * math.log10(\u001b[38;5;28mself\u001b[39m.num_items * \u001b[38;5;28;43mself\u001b[39;49m\u001b[43m.\u001b[49m\u001b[43mnum_dimensions\u001b[49m))\n\u001b[32m     12\u001b[39m \u001b[38;5;28mself\u001b[39m.final_temp = params.get(\u001b[33m'\u001b[39m\u001b[33mfinal_temperature\u001b[39m\u001b[33m'\u001b[39m, \u001b[38;5;28mself\u001b[39m.initial_temp * \u001b[32m0.01\u001b[39m)\n\u001b[32m     13\u001b[39m \u001b[38;5;28mself\u001b[39m.early_stop = params.get(\u001b[33m'\u001b[39m\u001b[33mearly_stop\u001b[39m\u001b[33m'\u001b[39m, \u001b[38;5;28mself\u001b[39m.iterations // \u001b[32m20\u001b[39m)\n",
      "\u001b[31mAttributeError\u001b[39m: 'KnapsackOptimizer' object has no attribute 'num_dimensions'"
     ]
    }
   ],
   "source": [
    "ko = KnapsackOptimizer(params)\n",
    "best_solution, best_value, best_values = ko.optimize()"
   ]
  },
  {
   "cell_type": "code",
   "execution_count": 19,
   "id": "457090a8",
   "metadata": {},
   "outputs": [
    {
     "data": {
      "text/plain": [
       "<matplotlib.legend.Legend at 0x2c22eec1e50>"
      ]
     },
     "execution_count": 19,
     "metadata": {},
     "output_type": "execute_result"
    },
    {
     "data": {
      "image/png": "[encoded data removed]",
      "text/plain": [
       "<Figure size 640x480 with 1 Axes>"
      ]
     },
     "metadata": {},
     "output_type": "display_data"
    }
   ],
   "source": [
    "from matplotlib import pyplot as plt\n",
    "\n",
    "plt.plot(range(len(best_values)), best_values, label='Best Value')\n",
    "plt.xlabel('Iterations')\n",
    "plt.ylabel('Value')\n",
    "plt.title('Knapsack Optimization Progress')\n",
    "plt.legend()"
   ]
  },
  {
   "cell_type": "markdown",
   "id": "8e0e0673",
   "metadata": {},
   "source": [
    "## TEST PROBLEMS"
   ]
  },
  {
   "cell_type": "code",
   "execution_count": 25,
   "id": "5595db9c",
   "metadata": {},
   "outputs": [
    {
     "name": "stderr",
     "output_type": "stream",
     "text": [
      "Optimizing: 100%|███████████████████████████████████████████████████████████████████████████████████| 4000/4000 [00:38<00:00, 104.63it/s, value=1065, temp=0.1]\n"
     ]
    }
   ],
   "source": [
    "# Problem 1:\n",
    "rng = np.random.default_rng(seed=42)\n",
    "\n",
    "params = {\n",
    "    'num_items': 20,\n",
    "    'num_dimensions': 2,\n",
    "    'num_knapsacks': 3,\n",
    "    'values': rng.integers(0, 100, size=20),\n",
    "    'weights': rng.integers(0, 100, size=(20, 2)),\n",
    "    'constraints': rng.integers(0, 100 * 20 // 3, size=2),\n",
    "    'iterations': 4000,\n",
    "    'initial_temperature': 50.0\n",
    "}\n",
    "\n",
    "ko = KnapsackOptimizer(params)\n",
    "best_solution, best_value, best_values = ko.optimize()"
   ]
  },
  {
   "cell_type": "code",
   "execution_count": 26,
   "id": "594b18ba",
   "metadata": {},
   "outputs": [
    {
     "data": {
      "text/plain": [
       "<matplotlib.legend.Legend at 0x2c22f011a90>"
      ]
     },
     "execution_count": 26,
     "metadata": {},
     "output_type": "execute_result"
    },
    {
     "data": {
      "image/png": "[encoded data removed]",
      "text/plain": [
       "<Figure size 640x480 with 1 Axes>"
      ]
     },
     "metadata": {},
     "output_type": "display_data"
    }
   ],
   "source": [
    "plt.plot(range(len(best_values)), best_values, label='Best Value')\n",
    "plt.xlabel('Iterations')\n",
    "plt.ylabel('Value')\n",
    "plt.title('Knapsack Optimization Progress')\n",
    "plt.legend()"
   ]
  },
  {
   "cell_type": "code",
   "execution_count": null,
   "id": "9eed08a0",
   "metadata": {},
   "outputs": [
    {
     "name": "stderr",
     "output_type": "stream",
     "text": [
      "Optimizing: 100%|██████████████████████████████████████████████████████████████████████████████| 100000/100000 [14:42<00:00, 113.32it/s, value=35100, temp=0.1]\n"
     ]
    }
   ],
   "source": [
    "# Problem 2:\n",
    "rng = np.random.default_rng(seed=42)\n",
    "\n",
    "params = {\n",
    "    'num_items': 100,\n",
    "    'num_dimensions': 10,\n",
    "    'num_knapsacks': 10,\n",
    "    'values': rng.integers(0, 1000, size=100),\n",
    "    'weights': rng.integers(0, 1000, size=(100, 10)),\n",
    "    'constraints': rng.integers(1000 * 2, 1000 * 100 // 10, size=10),\n",
    "    'iterations': 100000,\n",
    "    'initial_temperature': 100.0\n",
    "}\n",
    "\n",
    "ko = KnapsackOptimizer(params)\n",
    "best_solution, best_value, best_values = ko.optimize()"
   ]
  },
  {
   "cell_type": "code",
   "execution_count": 24,
   "id": "4a5ab66d",
   "metadata": {},
   "outputs": [
    {
     "data": {
      "text/plain": [
       "<matplotlib.legend.Legend at 0x2c22efb96d0>"
      ]
     },
     "execution_count": 24,
     "metadata": {},
     "output_type": "execute_result"
    },
    {
     "data": {
      "image/png": "[encoded data removed]",
      "text/plain": [
       "<Figure size 640x480 with 1 Axes>"
      ]
     },
     "metadata": {},
     "output_type": "display_data"
    }
   ],
   "source": [
    "plt.plot(range(len(best_values)), best_values, label='Best Value')\n",
    "plt.xlabel('Iterations')\n",
    "plt.ylabel('Value')\n",
    "plt.title('Knapsack Optimization Progress')\n",
    "plt.legend()"
   ]
  },
  {
   "cell_type": "code",
   "execution_count": null,
   "id": "117380d6",
   "metadata": {},
   "outputs": [],
   "source": [
    "# Problem 3:\n",
    "rng = np.random.default_rng(seed=42)\n",
    "\n",
    "params = {\n",
    "    'num_items': 5000,\n",
    "    'num_dimensions': 100,\n",
    "    'num_knapsacks': 100,\n",
    "    'values': rng.integers(0, 1000, size=5000),\n",
    "    'weights': rng.integers(0, 1000, size=(5000, 100)),\n",
    "    'constraints': rng.integers(1000 * 10, 1000 * 2 * 5000 // 100, size=100),\n",
    "    'iterations': 500000,\n",
    "    'initial_temperature': 1000.0\n",
    "}\n",
    "\n",
    "ko = KnapsackOptimizer(params)\n",
    "best_solution, best_value = ko.optimize()"
   ]
  },
  {
   "cell_type": "code",
   "execution_count": null,
   "id": "2bbe1e02",
   "metadata": {},
   "outputs": [],
   "source": []
  }
 ],
 "metadata": {
  "kernelspec": {
   "display_name": "Python 3 (ipykernel)",
   "language": "python",
   "name": "python3"
  },
  "language_info": {
   "codemirror_mode": {
    "name": "ipython",
    "version": 3
   },
   "file_extension": ".py",
   "mimetype": "text/x-python",
   "name": "python",
   "nbconvert_exporter": "python",
   "pygments_lexer": "ipython3",
   "version": "3.13.1"
  }
 },
 "nbformat": 4,
 "nbformat_minor": 5
}
