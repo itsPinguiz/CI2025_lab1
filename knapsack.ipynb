{
 "cells": [
  {
   "cell_type": "markdown",
   "id": "11fa4375",
   "metadata": {},
   "source": [
    "Copyright **`(c)`** 2025 Giovanni Squillero `<giovanni.squillero@polito.it>`  \n",
    "[`https://github.com/squillero/computational-intelligence`](https://github.com/squillero/computational-intelligence)  \n",
    "Free under certain conditions — see the [`license`](https://github.com/squillero/computational-intelligence/blob/master/LICENSE.md) for details.  "
   ]
  },
  {
   "cell_type": "code",
   "execution_count": 21,
   "id": "c0882a9f",
   "metadata": {},
   "outputs": [],
   "source": [
    "import numpy as np\n",
    "from copy import deepcopy\n",
    "from tqdm import tqdm\n",
    "import math\n",
    "from matplotlib import pyplot as plt"
   ]
  },
  {
   "cell_type": "code",
   "execution_count": 37,
   "id": "f21d5749",
   "metadata": {},
   "outputs": [],
   "source": [
    "class KnapsackOptimizer:\n",
    "    def __init__(self, params):\n",
    "        \"\"\"Initialize with parameters from dictionary.\"\"\"\n",
    "        self.constraints = params['constraints']\n",
    "        self.weights = params['weights']\n",
    "        self.values = params['values']\n",
    "        self.num_knapsacks = params['num_knapsacks']\n",
    "        self.num_items = params['num_items']\n",
    "\n",
    "        self.iterations = params.get('iterations', 10000)\n",
    "        self.initial_temp = params.get('initial_temperature', 10 * math.log10(self.num_items * self.weights.shape[1]))\n",
    "        self.final_temp = params.get('final_temperature', self.initial_temp * 0.01)\n",
    "        self.early_stop = params.get('early_stop', self.iterations // 5)\n",
    "\n",
    "        self.best_values = []\n",
    "        self.best_solution = None\n",
    "        self.best_value = 0\n",
    "    \n",
    "    def __str__(self):\n",
    "        \"\"\"Return a human-readable string representation of the optimizer.\"\"\"\n",
    "        s = f\"KnapsackOptimizer:\\n\"\n",
    "        s += f\"  Problem size: {self.num_items} items, {self.num_knapsacks} knapsacks, {self.weights.shape[1]} dimensions\\n\"\n",
    "        s += f\"  Temperature: {self.initial_temp:.2f} → {self.final_temp:.2f}\\n\"\n",
    "        s += f\"  Iterations: {self.iterations} (early stop after {self.early_stop} non-improving iterations)\\n\"\n",
    "        \n",
    "        if hasattr(self, 'best_value') and self.best_value > 0:\n",
    "            s += f\"  Optimization status: Complete\\n\"\n",
    "            s += f\"  Best value: {self.best_value}\\n\"\n",
    "            if hasattr(self, 'best_values') and self.best_values:\n",
    "                s += f\"  Progress: {self.best_values[0]} → {self.best_values[-1]}\\n\"\n",
    "                improvement = (self.best_values[-1] / self.best_values[0] - 1) * 100\n",
    "                s += f\"  Improvement: {improvement:.1f}%\\n\"\n",
    "        else:\n",
    "            s += f\"  Optimization status: Not started\\n\"\n",
    "        \n",
    "        return s\n",
    "\n",
    "    def __repr__(self):\n",
    "        \"\"\"Return a string representation of the optimizer.\"\"\"\n",
    "        return f\"KnapsackOptimizer(items={self.num_items}, knapsacks={self.num_knapsacks}, dims={self.weights.shape[1]})\"\n",
    "\n",
    "    \"\"\" =============================================HELPER METHODS ============================================= \"\"\"\n",
    "    def space_left(self, knapsack):\n",
    "        \"\"\"Compute remaining capacity for a single knapsack.\"\"\"\n",
    "        used = self.weights[knapsack].sum(axis=0)\n",
    "        return self.constraints - used\n",
    "\n",
    "\n",
    "    def is_valid(self, knapsacks):\n",
    "        \"\"\"Check if all knapsacks are within constraints.\"\"\"\n",
    "        for k in range(self.num_knapsacks):\n",
    "            selected_items = np.where(knapsacks[k])[0]\n",
    "            if len(selected_items) > 0:\n",
    "                knapsack_weights = self.weights[selected_items].sum(axis=0)\n",
    "                if np.any(knapsack_weights > self.constraints):\n",
    "                    return False\n",
    "        return True\n",
    "\n",
    "    def value(self, knapsacks):\n",
    "        \"\"\"Calculate total value of items in all knapsacks.\"\"\"\n",
    "        total_value = 0\n",
    "        for k in range(self.num_knapsacks):\n",
    "            selected_items = np.where(knapsacks[k])[0]\n",
    "            total_value += self.values[selected_items].sum()\n",
    "        return total_value\n",
    "\n",
    "    def random_valid_solution(self):\n",
    "        \"\"\"Generate a random valid solution.\"\"\"\n",
    "        knapsacks = np.zeros((self.num_knapsacks, self.num_items), dtype=bool)\n",
    "\n",
    "        while True:\n",
    "            for item in range(self.num_items):\n",
    "                k = np.random.randint(self.num_knapsacks)\n",
    "                if np.all(self.space_left(knapsacks[k]) >= self.weights[item]):\n",
    "                    knapsacks[k][item] = True\n",
    "            if self.is_valid(knapsacks):\n",
    "                break\n",
    "        return knapsacks\n",
    "    \n",
    "    def plot_optimization(self):\n",
    "        \"\"\"Plot the progress of the optimization.\"\"\"\n",
    "        plt.plot(range(len(self.best_values)), self.best_values, label='Best Value')\n",
    "        plt.xlabel('Iterations')\n",
    "        plt.ylabel('Value')\n",
    "        plt.title('Knapsack Optimization Progress')\n",
    "        plt.legend()\n",
    "\n",
    "    \"\"\" ====================================== OPTIMIZATION METHODS ========================================== \"\"\"\n",
    "    def random_edit(self, knapsacks):\n",
    "        k = np.random.randint(self.num_knapsacks)\n",
    "        knapsacks = knapsacks.copy()\n",
    "        op = np.random.choice([\"add\", \"remove\", \"transfer\"])\n",
    "\n",
    "        if op == \"add\":\n",
    "            available = np.where(~np.any(knapsacks, axis=0))[0]\n",
    "            if available.size:\n",
    "                item = np.random.choice(available)\n",
    "                if np.all(self.space_left(knapsacks[k]) >= self.weights[item]):\n",
    "                    knapsacks[k][item] = True\n",
    "\n",
    "        elif op == \"remove\":\n",
    "            items = np.where(knapsacks[k])[0]\n",
    "            if items.size:\n",
    "                knapsacks[k][np.random.choice(items)] = False\n",
    "\n",
    "        else:  # transfer\n",
    "            k2 = np.random.randint(self.num_knapsacks)\n",
    "            if k2 != k:\n",
    "                items = np.where(knapsacks[k])[0]\n",
    "                if items.size:\n",
    "                    item = np.random.choice(items)\n",
    "                    if np.all(self.space_left(knapsacks[k2]) >= self.weights[item]):\n",
    "                        knapsacks[k][item] = False\n",
    "                        knapsacks[k2][item] = True\n",
    "\n",
    "        return knapsacks\n",
    "\n",
    "    def greedy_edit(self, knapsacks):\n",
    "        \"\"\"Combine value-based editing with transfer optimization.\"\"\"\n",
    "        knapsacks = knapsacks.copy()\n",
    "        \n",
    "        # First try to add unassigned items\n",
    "        assigned_mask = np.any(knapsacks, axis=0)\n",
    "        unassigned_items = np.where(~assigned_mask)[0]\n",
    "        \n",
    "        if len(unassigned_items) > 0:\n",
    "            # Vectorized value density calculation\n",
    "            weight_norms = np.linalg.norm(self.weights[unassigned_items], axis=1)\n",
    "            value_densities = self.values[unassigned_items] / (weight_norms + 1e-9)\n",
    "            \n",
    "            # Sort by density\n",
    "            sorted_indices = np.argsort(-value_densities)\n",
    "            sorted_items = unassigned_items[sorted_indices]\n",
    "            \n",
    "            # Try to add high-value items to knapsacks where they fit best\n",
    "            for item in sorted_items:\n",
    "                best_k = -1\n",
    "                best_fit = -1\n",
    "                \n",
    "                for k in range(self.num_knapsacks):\n",
    "                    space_left = self.space_left(knapsacks[k])\n",
    "                    \n",
    "                    if np.all(space_left >= self.weights[item]):\n",
    "                        # Calculate how well this item fits\n",
    "                        fit_score = 0\n",
    "                        for d in range(len(self.constraints)):\n",
    "                            if space_left[d] > 0:\n",
    "                                utilization = self.weights[item][d] / space_left[d]\n",
    "                                fit_score += utilization\n",
    "                        \n",
    "                        if fit_score > best_fit:\n",
    "                            best_k = k\n",
    "                            best_fit = fit_score\n",
    "                \n",
    "                if best_k != -1:\n",
    "                    knapsacks[best_k][item] = True\n",
    "        \n",
    "        # Then try to optimize transfers\n",
    "        improved = True\n",
    "        max_passes = 3  # Reduced from 10 to make it faster\n",
    "        passes = 0\n",
    "        \n",
    "        while improved and passes < max_passes:\n",
    "            improved = False\n",
    "            passes += 1\n",
    "            \n",
    "            for item in range(self.num_items):\n",
    "                current_ks = np.where(knapsacks[:, item])[0]\n",
    "                if len(current_ks) == 0:\n",
    "                    continue\n",
    "                \n",
    "                current_k = current_ks[0]\n",
    "                \n",
    "                # Check if moving to another knapsack would be better\n",
    "                for k in range(self.num_knapsacks):\n",
    "                    if k == current_k:\n",
    "                        continue\n",
    "                    \n",
    "                    # Check if item fits in target knapsack\n",
    "                    if np.all(self.space_left(knapsacks[k]) >= self.weights[item]):\n",
    "                        # Check if this move would allow adding more valuable items\n",
    "                        current_space_after_remove = self.space_left(knapsacks[current_k]) + self.weights[item]\n",
    "                        \n",
    "                        # Find best item that could be added to current knapsack after removal\n",
    "                        best_additional_value = 0\n",
    "                        for other_item in range(self.num_items):\n",
    "                            if not np.any(knapsacks[:, other_item]) and np.all(current_space_after_remove >= self.weights[other_item]):\n",
    "                                if self.values[other_item] > best_additional_value:\n",
    "                                    best_additional_value = self.values[other_item]\n",
    "                        \n",
    "                        # If we can get more value by moving, do it\n",
    "                        if best_additional_value > self.values[item]:\n",
    "                            knapsacks[current_k][item] = False\n",
    "                            knapsacks[k][item] = True\n",
    "                            improved = True\n",
    "                            break\n",
    "        \n",
    "        return knapsacks\n",
    "\n",
    "    def edit_solution(self, knapsacks, temperature):\n",
    "        \"\"\"Apply a probabilistic edit to the solution.\"\"\"\n",
    "        knapsacks = knapsacks.copy()\n",
    "        p_random = min(1, temperature)  # high temp = more random\n",
    "        \n",
    "        if np.random.rand() < p_random:\n",
    "            return self.random_edit(knapsacks)\n",
    "        else:\n",
    "            return self.greedy_edit(knapsacks)\n",
    "\n",
    "    def tweak(self, knapsacks, temperature):\n",
    "        \"\"\"Tweak solution based on temperature.\"\"\"\n",
    "        knapsacks = knapsacks.copy()\n",
    "        max_attempts = 20\n",
    "        attempt = 0\n",
    "        \n",
    "        while attempt < max_attempts:\n",
    "            new_solution = self.edit_solution(knapsacks, temperature)\n",
    "            \n",
    "            if self.is_valid(new_solution):\n",
    "                return new_solution\n",
    "            \n",
    "            attempt += 1\n",
    "        return knapsacks.copy()\n",
    "\n",
    "    def acceptance(self, delta, temp):\n",
    "        \"\"\"Calculate the acceptance probability based on delta and temperature.\"\"\"\n",
    "        return 1.0 if delta > 0 else math.exp(delta / temp)\n",
    "\n",
    "    def temperature_at(self, step):\n",
    "        \"\"\"Calculate temperature at the given step using exponential cooling schedule.\"\"\"\n",
    "        return self.initial_temp * (self.final_temp / self.initial_temp) ** (step / self.iterations)\n",
    "\n",
    "    def optimize(self):\n",
    "        \"\"\"Perform simulated annealing to optimize knapsack solution.\"\"\"\n",
    "        self._space_cache = {}\n",
    "        sol = self.random_valid_solution()\n",
    "        val = self.value(sol)\n",
    "        best_sol, best_val = sol.copy(), val\n",
    "        self.best_values, no_improve = [], 0\n",
    "        \n",
    "        pbar = tqdm(range(self.iterations), desc=\"Optimizing\")\n",
    "        for i in pbar:\n",
    "            T = self.temperature_at(i)\n",
    "            new_sol = self.tweak(sol, T)\n",
    "            new_val = self.value(new_sol)\n",
    "            delta = new_val - val\n",
    "            \n",
    "            if np.random.rand() < self.acceptance(delta, T):\n",
    "                sol, val = new_sol, new_val\n",
    "                if val > best_val:\n",
    "                    best_sol, best_val, no_improve = sol.copy(), val, 0\n",
    "                else:\n",
    "                    no_improve += 1\n",
    "            else:\n",
    "                no_improve += 1\n",
    "                \n",
    "            # Early stopping check\n",
    "            if no_improve >= self.early_stop:\n",
    "                pbar.set_postfix({'value': best_val, 'temp': T, 'status': 'early stopped'}, refresh=True)\n",
    "                tqdm.write(\"Early stopping.\")\n",
    "                break\n",
    "                \n",
    "            # Restart from best solution if stuck for a while but not enough to stop\n",
    "            if no_improve > 1000 and no_improve < self.early_stop:\n",
    "                sol = deepcopy(best_sol)\n",
    "                val = best_val\n",
    "                no_improve = 0\n",
    "            \n",
    "            self.best_values.append(best_val)\n",
    "            pbar.set_postfix({'value': best_val, 'temp': T}, refresh=True)\n",
    "        \n",
    "        self.best_solution, self.best_value = best_sol, best_val"
   ]
  },
  {
   "cell_type": "markdown",
   "id": "8e0e0673",
   "metadata": {},
   "source": [
    "## TEST PROBLEMS"
   ]
  },
  {
   "cell_type": "code",
   "execution_count": null,
   "id": "4453e129",
   "metadata": {},
   "outputs": [],
   "source": [
    "RANDOM_SEED = 42"
   ]
  },
  {
   "cell_type": "code",
   "execution_count": null,
   "id": "5595db9c",
   "metadata": {},
   "outputs": [
    {
     "name": "stderr",
     "output_type": "stream",
     "text": [
      "Optimizing: 100%|██████████| 10000/10000 [00:46<00:00, 213.59it/s, value=1065, temp=0.01] "
     ]
    },
    {
     "name": "stdout",
     "output_type": "stream",
     "text": [
      "KnapsackOptimizer:\n",
      "  Problem size: 20 items, 3 knapsacks, 2 dimensions\n",
      "  Temperature: 100.00 → 0.01\n",
      "  Iterations: 10000 (early stop after 4000 non-improving iterations)\n",
      "  Optimization status: Complete\n",
      "  Best value: 1065\n",
      "  Progress: 949 → 1065\n",
      "  Improvement: 12.2%\n",
      "\n"
     ]
    },
    {
     "name": "stderr",
     "output_type": "stream",
     "text": [
      "\n"
     ]
    }
   ],
   "source": [
    "# Problem 1:\n",
    "rng = np.random.default_rng(seed=RANDOM_SEED)\n",
    "\n",
    "params = {\n",
    "    'num_items': 20,\n",
    "    'num_dimensions': 2,\n",
    "    'num_knapsacks': 3,\n",
    "    'values': rng.integers(0, 100, size=20),\n",
    "    'weights': rng.integers(0, 100, size=(20, 2)),\n",
    "    'constraints': rng.integers(0, 100 * 20 // 3, size=2),\n",
    "    'iterations': 10000,\n",
    "    'initial_temperature': 100.0,\n",
    "    'early_stop': 4000\n",
    "}\n",
    "\n",
    "ko1 = KnapsackOptimizer(params)\n",
    "ko1.optimize()\n",
    "print(ko1)"
   ]
  },
  {
   "cell_type": "code",
   "execution_count": 24,
   "id": "594b18ba",
   "metadata": {},
   "outputs": [
    {
     "data": {
      "image/png": "[encoded data removed]",
      "text/plain": [
       "<Figure size 640x480 with 1 Axes>"
      ]
     },
     "metadata": {},
     "output_type": "display_data"
    }
   ],
   "source": [
    "ko1.plot_optimization()"
   ]
  },
  {
   "cell_type": "code",
   "execution_count": null,
   "id": "9eed08a0",
   "metadata": {},
   "outputs": [
    {
     "name": "stderr",
     "output_type": "stream",
     "text": [
      "Optimizing: 100%|██████████| 10000/10000 [00:21<00:00, 471.30it/s, value=35605, temp=1]  "
     ]
    },
    {
     "name": "stdout",
     "output_type": "stream",
     "text": [
      "KnapsackOptimizer:\n",
      "  Problem size: 100 items, 10 knapsacks, 10 dimensions\n",
      "  Temperature: 100.00 → 1.00\n",
      "  Iterations: 10000 (early stop after 2000 non-improving iterations)\n",
      "  Optimization status: Complete\n",
      "  Best value: 35605\n",
      "  Progress: 26163 → 35605\n",
      "  Improvement: 36.1%\n",
      "\n"
     ]
    },
    {
     "name": "stderr",
     "output_type": "stream",
     "text": [
      "\n"
     ]
    }
   ],
   "source": [
    "# Problem 2:\n",
    "rng = np.random.default_rng(seed=RANDOM_SEED)\n",
    "\n",
    "params = {\n",
    "    'num_items': 100,\n",
    "    'num_dimensions': 10,\n",
    "    'num_knapsacks': 10,\n",
    "    'values': rng.integers(0, 1000, size=100),\n",
    "    'weights': rng.integers(0, 1000, size=(100, 10)),\n",
    "    'constraints': rng.integers(1000 * 2, 1000 * 100 // 10, size=10),\n",
    "    'iterations': 10000,\n",
    "    'initial_temperature': 100.0\n",
    "}\n",
    "\n",
    "ko2 = KnapsackOptimizer(params)\n",
    "ko2.optimize()\n",
    "print(ko2)"
   ]
  },
  {
   "cell_type": "code",
   "execution_count": 29,
   "id": "4a5ab66d",
   "metadata": {},
   "outputs": [
    {
     "data": {
      "image/png": "[encoded data removed]",
      "text/plain": [
       "<Figure size 640x480 with 1 Axes>"
      ]
     },
     "metadata": {},
     "output_type": "display_data"
    }
   ],
   "source": [
    "ko2.plot_optimization()"
   ]
  },
  {
   "cell_type": "code",
   "execution_count": null,
   "id": "117380d6",
   "metadata": {},
   "outputs": [
    {
     "name": "stderr",
     "output_type": "stream",
     "text": [
      "Optimizing: 100%|██████████| 50000/50000 [07:49<00:00, 106.52it/s, value=1437606, temp=4]   "
     ]
    },
    {
     "name": "stdout",
     "output_type": "stream",
     "text": [
      "KnapsackOptimizer:\n",
      "  Problem size: 5000 items, 100 knapsacks, 100 dimensions\n",
      "  Temperature: 400.00 → 4.00\n",
      "  Iterations: 50000 (early stop after 10000 non-improving iterations)\n",
      "  Optimization status: Complete\n",
      "  Best value: 1437606\n",
      "  Progress: 1154030 → 1437606\n",
      "  Improvement: 24.6%\n",
      "\n"
     ]
    },
    {
     "name": "stderr",
     "output_type": "stream",
     "text": [
      "\n"
     ]
    }
   ],
   "source": [
    "# Problem 3:\n",
    "rng = np.random.default_rng(seed=RANDOM_SEED)\n",
    "\n",
    "params = {\n",
    "    'num_items': 5000,\n",
    "    'num_dimensions': 100,\n",
    "    'num_knapsacks': 100,\n",
    "    'values': rng.integers(0, 1000, size=5000),\n",
    "    'weights': rng.integers(0, 1000, size=(5000, 100)),\n",
    "    'constraints': rng.integers(1000 * 10, 1000 * 2 * 5000 // 100, size=100),\n",
    "    'iterations': 50000,\n",
    "    'initial_temperature': 400.0\n",
    "}\n",
    "\n",
    "ko3 = KnapsackOptimizer(params)\n",
    "ko3.optimize()\n",
    "print(ko3)"
   ]
  },
  {
   "cell_type": "code",
   "execution_count": 36,
   "id": "70519a38",
   "metadata": {},
   "outputs": [
    {
     "data": {
      "image/png": "[encoded data removed]",
      "text/plain": [
       "<Figure size 640x480 with 1 Axes>"
      ]
     },
     "metadata": {},
     "output_type": "display_data"
    }
   ],
   "source": [
    "ko3.plot_optimization()"
   ]
  }
 ],
 "metadata": {
  "kernelspec": {
   "display_name": ".venv",
   "language": "python",
   "name": "python3"
  },
  "language_info": {
   "codemirror_mode": {
    "name": "ipython",
    "version": 3
   },
   "file_extension": ".py",
   "mimetype": "text/x-python",
   "name": "python",
   "nbconvert_exporter": "python",
   "pygments_lexer": "ipython3",
   "version": "3.13.1"
  }
 },
 "nbformat": 4,
 "nbformat_minor": 5
}
